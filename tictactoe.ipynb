{
 "cells": [
  {
   "cell_type": "code",
   "execution_count": 1,
   "metadata": {},
   "outputs": [],
   "source": [
    "#Global variables\n",
    "board =[\" \"]*10\n",
    "player_marker=\" \"\n",
    "cpu_marker=\" \"\n",
    "info=0\n",
    "game_status=true"
   ]
  },
  {
   "cell_type": "code",
   "execution_count": 3,
   "metadata": {},
   "outputs": [],
   "source": [
    "def input_player():\n",
    "    global player_marker, cpu_marker\n",
    "    player_marker=input(\"Enter if X/O?\")\n",
    "    player_marker=player_marker.upper()\n",
    "    if(player_marker==\"X\"):\n",
    "        cpu_marker=\"Y\"\n",
    "    else:\n",
    "        cpu_marker=\"X\""
   ]
  },
  {
   "cell_type": "code",
   "execution_count": 4,
   "metadata": {},
   "outputs": [],
   "source": [
    "def display_board():\n",
    "    global board\n",
    "    print(board[7]+\" | \"+board[8]+\" | \"+board[9])\n",
    "    print(\"---------\")\n",
    "    print(board[4]+\" | \"+board[5]+\" | \"+board[6])\n",
    "    print(\"---------\")\n",
    "    print(board[1]+\" | \"+board[2]+\" | \"+board[3])\n",
    "    "
   ]
  },
  {
   "cell_type": "code",
   "execution_count": 6,
   "metadata": {},
   "outputs": [],
   "source": [
    "def input_info():\n",
    "    global info\n",
    "    print(\"Please enter your desired position in reference to the diagram given below\")\n",
    "    print(\"Example enter '3' if your desired position is rightmost cell in bottom row\")\n",
    "    print(\"\")\n",
    "    print(\"(7)\"+\" | \"+\"(8)\"+\" | \"+\"(9)\")\n",
    "    print(\"---------------\")\n",
    "    print(\"(4)\"+\" | \"+\"(5)\"+\" | \"+\"(6)\")\n",
    "    print(\"---------------\")\n",
    "    print(\"(1)\"+\" | \"+\"(2)\"+\" | \"+\"(3)\")\n",
    "    print(\"\")\n",
    "    info=input(\"Enter your desired position?\")\n",
    "    \n",
    "    "
   ]
  },
  {
   "cell_type": "code",
   "execution_count": null,
   "metadata": {},
   "outputs": [
    {
     "name": "stdout",
     "output_type": "stream",
     "text": [
      "Please enter your desired position in reference to the diagram given below\n",
      "Example enter '3' if your desired position is rightmost cell in bottom row\n",
      "\n",
      "(7) | (8) | (9)\n",
      "---------------\n",
      "(4) | (5) | (6)\n",
      "---------------\n",
      "(1) | (2) | (3)\n",
      "\n"
     ]
    }
   ],
   "source": [
    "input_info()"
   ]
  },
  {
   "cell_type": "code",
   "execution_count": null,
   "metadata": {},
   "outputs": [],
   "source": []
  }
 ],
 "metadata": {
  "kernelspec": {
   "display_name": "Python 3",
   "language": "python",
   "name": "python3"
  },
  "language_info": {
   "codemirror_mode": {
    "name": "ipython",
    "version": 3
   },
   "file_extension": ".py",
   "mimetype": "text/x-python",
   "name": "python",
   "nbconvert_exporter": "python",
   "pygments_lexer": "ipython3",
   "version": "3.7.3"
  }
 },
 "nbformat": 4,
 "nbformat_minor": 2
}
